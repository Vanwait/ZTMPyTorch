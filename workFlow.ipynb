{
 "cells": [
  {
   "cell_type": "code",
   "execution_count": 1,
   "metadata": {
    "collapsed": true,
    "pycharm": {
     "name": "#%%\n"
    }
   },
   "outputs": [
    {
     "data": {
      "text/plain": "'2.1.0+cu118'"
     },
     "execution_count": 1,
     "metadata": {},
     "output_type": "execute_result"
    }
   ],
   "source": [
    "import pandas as pd\n",
    "import numpy as np\n",
    "import matplotlib.pyplot as plt\n",
    "import torch\n",
    "from torch import nn\n",
    "torch.__version__"
   ]
  },
  {
   "cell_type": "markdown",
   "source": [
    "## WorkFlow\n",
    "### Muestra el flujo de trabajo end-to-end de PyTorch"
   ],
   "metadata": {
    "collapsed": false,
    "pycharm": {
     "name": "#%% md\n"
    }
   }
  },
  {
   "cell_type": "markdown",
   "source": [
    "## Preparando y Cargando Datos"
   ],
   "metadata": {
    "collapsed": false,
    "pycharm": {
     "name": "#%% md\n"
    }
   }
  },
  {
   "cell_type": "code",
   "execution_count": 174,
   "outputs": [],
   "source": [
    "weight = 0.7\n",
    "bias = 0.3\n",
    "\n",
    "start = 0\n",
    "end = 1\n",
    "step = 0.02\n",
    "X = torch.arange(start, end, step).unsqueeze(dim=1)\n",
    "y = weight * X + bias"
   ],
   "metadata": {
    "collapsed": false,
    "pycharm": {
     "name": "#%%\n"
    }
   }
  },
  {
   "cell_type": "code",
   "execution_count": 175,
   "outputs": [
    {
     "data": {
      "text/plain": "(tensor([[0.0000],\n         [0.0200],\n         [0.0400],\n         [0.0600],\n         [0.0800],\n         [0.1000],\n         [0.1200],\n         [0.1400],\n         [0.1600],\n         [0.1800]]),\n tensor([[0.3000],\n         [0.3140],\n         [0.3280],\n         [0.3420],\n         [0.3560],\n         [0.3700],\n         [0.3840],\n         [0.3980],\n         [0.4120],\n         [0.4260]]))"
     },
     "execution_count": 175,
     "metadata": {},
     "output_type": "execute_result"
    }
   ],
   "source": [
    "X[:10], y[:10]"
   ],
   "metadata": {
    "collapsed": false,
    "pycharm": {
     "name": "#%%\n"
    }
   }
  },
  {
   "cell_type": "code",
   "execution_count": 176,
   "outputs": [
    {
     "data": {
      "text/plain": "(50, 50)"
     },
     "execution_count": 176,
     "metadata": {},
     "output_type": "execute_result"
    }
   ],
   "source": [
    "len(X), len(y)"
   ],
   "metadata": {
    "collapsed": false,
    "pycharm": {
     "name": "#%%\n"
    }
   }
  },
  {
   "cell_type": "markdown",
   "source": [
    "### Separación training/test"
   ],
   "metadata": {
    "collapsed": false,
    "pycharm": {
     "name": "#%% md\n"
    }
   }
  },
  {
   "cell_type": "code",
   "execution_count": 177,
   "outputs": [],
   "source": [
    "train_split = int(0.8 * len(X))\n",
    "Xtrain, Ytrain = X[:train_split], y[:train_split]\n",
    "Xtest, Ytest = X[train_split:], y[train_split:]"
   ],
   "metadata": {
    "collapsed": false,
    "pycharm": {
     "name": "#%%\n"
    }
   }
  },
  {
   "cell_type": "code",
   "execution_count": 178,
   "outputs": [],
   "source": [
    "def plot_prediction(train_data, train_label, test_data, test_label, predictions):\n",
    "    plt.figure(figsize=(10, 7))\n",
    "    plt.scatter(train_data, train_label, c='b', s=4, label=\"Training Data\") #Training data en azul\n",
    "    plt.scatter(test_data, test_label, c='g', s=4, label=\"Testing Data\") #Test en verde\n",
    "    if len(predictions) > 1:\n",
    "        plt.scatter(test_data, predictions, c='r', s=4, label=\"Predictions\") #Predicciones en rojo\n",
    "    plt.legend(prop={'size': 14}) #Leyenda\n",
    "\n",
    "    plt.show()"
   ],
   "metadata": {
    "collapsed": false,
    "pycharm": {
     "name": "#%%\n"
    }
   }
  },
  {
   "cell_type": "code",
   "execution_count": 179,
   "outputs": [
    {
     "data": {
      "text/plain": "tensor([[0.0000],\n        [0.0200],\n        [0.0400],\n        [0.0600],\n        [0.0800],\n        [0.1000],\n        [0.1200],\n        [0.1400],\n        [0.1600],\n        [0.1800],\n        [0.2000],\n        [0.2200],\n        [0.2400],\n        [0.2600],\n        [0.2800],\n        [0.3000],\n        [0.3200],\n        [0.3400],\n        [0.3600],\n        [0.3800],\n        [0.4000],\n        [0.4200],\n        [0.4400],\n        [0.4600],\n        [0.4800],\n        [0.5000],\n        [0.5200],\n        [0.5400],\n        [0.5600],\n        [0.5800],\n        [0.6000],\n        [0.6200],\n        [0.6400],\n        [0.6600],\n        [0.6800],\n        [0.7000],\n        [0.7200],\n        [0.7400],\n        [0.7600],\n        [0.7800]])"
     },
     "execution_count": 179,
     "metadata": {},
     "output_type": "execute_result"
    }
   ],
   "source": [
    "Xtrain"
   ],
   "metadata": {
    "collapsed": false,
    "pycharm": {
     "name": "#%%\n"
    }
   }
  },
  {
   "cell_type": "code",
   "execution_count": 180,
   "outputs": [
    {
     "data": {
      "text/plain": "<Figure size 1000x700 with 1 Axes>",
      "image/png": "[encoded data removed]"
     },
     "metadata": {},
     "output_type": "display_data"
    }
   ],
   "source": [
    "plot_prediction(Xtrain, Ytrain, Xtest, Ytest, torch.Tensor())"
   ],
   "metadata": {
    "collapsed": false,
    "pycharm": {
     "name": "#%%\n"
    }
   }
  },
  {
   "cell_type": "markdown",
   "source": [
    "### Modelo de regresión lineal con PyTorch puro"
   ],
   "metadata": {
    "collapsed": false,
    "pycharm": {
     "name": "#%% md\n"
    }
   }
  },
  {
   "cell_type": "code",
   "execution_count": 99,
   "outputs": [],
   "source": [
    "\n",
    "class Lr(nn.Module):\n",
    "\n",
    "    def __init__(self):\n",
    "        super().__init__()\n",
    "        self.weights = nn.Parameter(torch.randn(1, requires_grad=True, dtype=torch.float))\n",
    "        self.bias = nn.Parameter(torch.randn(1, requires_grad=True, dtype=torch.float))\n",
    "\n",
    "    #Forward\n",
    "    def forward(self, x: torch.Tensor) -> torch.Tensor:\n",
    "        return self.weights * x + bias\n"
   ],
   "metadata": {
    "collapsed": false,
    "pycharm": {
     "name": "#%%\n"
    }
   }
  },
  {
   "cell_type": "code",
   "execution_count": 100,
   "outputs": [
    {
     "data": {
      "text/plain": "[Parameter containing:\n tensor([0.3367], requires_grad=True),\n Parameter containing:\n tensor([0.1288], requires_grad=True)]"
     },
     "execution_count": 100,
     "metadata": {},
     "output_type": "execute_result"
    }
   ],
   "source": [
    "torch.manual_seed(42)\n",
    "\n",
    "model = Lr()\n",
    "\n",
    "list(model.parameters())"
   ],
   "metadata": {
    "collapsed": false,
    "pycharm": {
     "name": "#%%\n"
    }
   }
  },
  {
   "cell_type": "code",
   "execution_count": 94,
   "outputs": [
    {
     "data": {
      "text/plain": "OrderedDict([('weights', tensor([0.3367])), ('bias', tensor([0.1288]))])"
     },
     "execution_count": 94,
     "metadata": {},
     "output_type": "execute_result"
    }
   ],
   "source": [
    "model.state_dict()"
   ],
   "metadata": {
    "collapsed": false,
    "pycharm": {
     "name": "#%%\n"
    }
   }
  },
  {
   "cell_type": "markdown",
   "source": [
    "### Hacer predicciones"
   ],
   "metadata": {
    "collapsed": false,
    "pycharm": {
     "name": "#%% md\n"
    }
   }
  },
  {
   "cell_type": "code",
   "execution_count": 17,
   "outputs": [
    {
     "data": {
      "text/plain": "tensor([[0.8000, 0.8200, 0.8400, 0.8600, 0.8800, 0.9000, 0.9200, 0.9400, 0.9600,\n         0.9800]])"
     },
     "execution_count": 17,
     "metadata": {},
     "output_type": "execute_result"
    }
   ],
   "source": [
    "Xtest.T"
   ],
   "metadata": {
    "collapsed": false,
    "pycharm": {
     "name": "#%%\n"
    }
   }
  },
  {
   "cell_type": "code",
   "execution_count": 101,
   "outputs": [
    {
     "data": {
      "text/plain": "tensor([[0.5694],\n        [0.5761],\n        [0.5828],\n        [0.5896],\n        [0.5963],\n        [0.6030],\n        [0.6098],\n        [0.6165],\n        [0.6232],\n        [0.6300]])"
     },
     "execution_count": 101,
     "metadata": {},
     "output_type": "execute_result"
    }
   ],
   "source": [
    "with torch.inference_mode():\n",
    "    y_pred = model(Xtest)\n",
    "y_pred"
   ],
   "metadata": {
    "collapsed": false,
    "pycharm": {
     "name": "#%%\n"
    }
   }
  },
  {
   "cell_type": "code",
   "execution_count": 97,
   "outputs": [
    {
     "data": {
      "text/plain": "tensor([[0.8600],\n        [0.8740],\n        [0.8880],\n        [0.9020],\n        [0.9160],\n        [0.9300],\n        [0.9440],\n        [0.9580],\n        [0.9720],\n        [0.9860]])"
     },
     "execution_count": 97,
     "metadata": {},
     "output_type": "execute_result"
    }
   ],
   "source": [
    "Ytest"
   ],
   "metadata": {
    "collapsed": false,
    "pycharm": {
     "name": "#%%\n"
    }
   }
  },
  {
   "cell_type": "code",
   "execution_count": 98,
   "outputs": [
    {
     "data": {
      "text/plain": "<Figure size 1000x700 with 1 Axes>",
      "image/png": "[encoded data removed]"
     },
     "metadata": {},
     "output_type": "display_data"
    }
   ],
   "source": [
    "plot_prediction(Xtrain, Ytrain, Xtest, Ytest, y_pred)"
   ],
   "metadata": {
    "collapsed": false,
    "pycharm": {
     "name": "#%%\n"
    }
   }
  },
  {
   "cell_type": "code",
   "execution_count": 43,
   "outputs": [
    {
     "data": {
      "text/plain": "tensor([[0.5694],\n        [0.5761],\n        [0.5828],\n        [0.5896],\n        [0.5963],\n        [0.6030],\n        [0.6098],\n        [0.6165],\n        [0.6232],\n        [0.6300]])"
     },
     "execution_count": 43,
     "metadata": {},
     "output_type": "execute_result"
    }
   ],
   "source": [
    "y_pred = y_pred.reshape(-1, 1)\n",
    "y_pred"
   ],
   "metadata": {
    "collapsed": false,
    "pycharm": {
     "name": "#%%\n"
    }
   }
  },
  {
   "cell_type": "markdown",
   "source": [
    "### Entrenar un Modelo"
   ],
   "metadata": {
    "collapsed": false,
    "pycharm": {
     "name": "#%% md\n"
    }
   }
  },
  {
   "cell_type": "markdown",
   "source": [
    "Loss Function: Mide el error entre las predicciones y los valores reales de la variable target\n",
    "Optimizador: Ayuda al modelo para el cambio de valor de parámetros internos para minimizar el error"
   ],
   "metadata": {
    "collapsed": false,
    "pycharm": {
     "name": "#%% md\n"
    }
   }
  },
  {
   "cell_type": "code",
   "execution_count": 71,
   "outputs": [],
   "source": [
    "## Función de Error\n",
    "loss_fn = nn.L1Loss() ## MAE\n",
    "\n",
    "# Optimizador\n",
    "optimizer = torch.optim.SGD(params=model.parameters(),\n",
    "                            lr=0.01) #Optimizador estocástico para el descenso de gradiente. Params son los parámetros que queremos optimizar (peso y bias) y lf es el learning rate\n"
   ],
   "metadata": {
    "collapsed": false,
    "pycharm": {
     "name": "#%%\n"
    }
   }
  },
  {
   "cell_type": "markdown",
   "source": [
    "### Training loop\n",
    "1.- Forward\n",
    "2.- Calcular Error\n",
    "3.- Optimizador\n",
    "4.- Backwards"
   ],
   "metadata": {
    "collapsed": false,
    "pycharm": {
     "name": "#%% md\n"
    }
   }
  },
  {
   "cell_type": "code",
   "execution_count": 47,
   "outputs": [],
   "source": [
    "epochs = 100"
   ],
   "metadata": {
    "collapsed": false,
    "pycharm": {
     "name": "#%%\n"
    }
   }
  },
  {
   "cell_type": "code",
   "execution_count": 72,
   "outputs": [
    {
     "data": {
      "text/plain": "[Parameter containing:\n tensor([0.4314], requires_grad=True),\n Parameter containing:\n tensor([0.1288], requires_grad=True)]"
     },
     "execution_count": 72,
     "metadata": {},
     "output_type": "execute_result"
    }
   ],
   "source": [
    "for epoch in range(epochs):\n",
    "    model.train()\n",
    "    y_pred = model(Xtrain)\n",
    "    loss = loss_fn(y_pred, Ytrain)\n",
    "    optimizer.zero_grad()\n",
    "    loss.backward()\n",
    "    optimizer.step()\n",
    "\n",
    "list(model.parameters())"
   ],
   "metadata": {
    "collapsed": false,
    "pycharm": {
     "name": "#%%\n"
    }
   }
  },
  {
   "cell_type": "code",
   "execution_count": 186,
   "outputs": [
    {
     "data": {
      "text/plain": "<Figure size 1000x700 with 1 Axes>",
      "image/png": "[encoded data removed]"
     },
     "metadata": {},
     "output_type": "display_data"
    }
   ],
   "source": [
    "with torch.inference_mode():\n",
    "    Xtrain = Xtrain.to('cpu')\n",
    "    Ytrain = Ytrain.to('cpu')\n",
    "    y_pred = model(Xtest)\n",
    "    Xtest = Xtest.to('cpu')\n",
    "    Ytest = Ytest.to('cpu')\n",
    "    y_pred = y_pred.to('cpu')\n",
    "\n",
    "plot_prediction(Xtrain, Ytrain, Xtest, Ytest, y_pred)"
   ],
   "metadata": {
    "collapsed": false,
    "pycharm": {
     "name": "#%%\n"
    }
   }
  },
  {
   "cell_type": "markdown",
   "source": [
    "### Test Loop\n",
    "1.- Con inference_mode\n",
    "2.- Forward\n",
    "3.- Calcular Error"
   ],
   "metadata": {
    "collapsed": false,
    "pycharm": {
     "name": "#%% md\n"
    }
   }
  },
  {
   "cell_type": "code",
   "execution_count": 55,
   "outputs": [
    {
     "name": "stdout",
     "output_type": "stream",
     "text": [
      "Epoch: 0 | MAE: 0.002927726600319147\n",
      "Epoch: 10 | MAE: 0.002927726600319147\n",
      "Epoch: 20 | MAE: 0.002927726600319147\n",
      "Epoch: 30 | MAE: 0.002927726600319147\n",
      "Epoch: 40 | MAE: 0.002927726600319147\n",
      "Epoch: 50 | MAE: 0.002927726600319147\n",
      "Epoch: 60 | MAE: 0.002927726600319147\n",
      "Epoch: 70 | MAE: 0.002927726600319147\n",
      "Epoch: 80 | MAE: 0.002927726600319147\n",
      "Epoch: 90 | MAE: 0.002927726600319147\n"
     ]
    }
   ],
   "source": [
    "epoch_count = []\n",
    "train_loss_values = []\n",
    "test_loss_values = []\n",
    "\n",
    "for epoch in range(epoch):\n",
    "\n",
    "    model.eval()\n",
    "    with torch.inference_mode():\n",
    "        test_pred = model(Xtest.reshape(1, -1)).reshape(-1, 1)\n",
    "\n",
    "        loss = loss_fn(test_pred, Ytest)\n",
    "\n",
    "        if epoch % 10 == 0:\n",
    "            epoch_count.append(epoch)\n",
    "            train_loss_values.append(loss)\n",
    "            test_loss_values.append(test_loss)\n",
    "            print(f\"Epoch: {epoch} | MAE Test: {test_loss} | MAE Train: {loss}\")"
   ],
   "metadata": {
    "collapsed": false,
    "pycharm": {
     "name": "#%%\n"
    }
   }
  },
  {
   "cell_type": "code",
   "execution_count": 159,
   "outputs": [
    {
     "data": {
      "text/plain": "device(type='cuda', index=0)"
     },
     "execution_count": 159,
     "metadata": {},
     "output_type": "execute_result"
    }
   ],
   "source": [
    "torch.manual_seed(42)\n",
    "model = Lr()\n",
    "loss_fn = nn.L1Loss()\n",
    "optimizer = torch.optim.SGD(params=model.parameters(),\n",
    "                            lr=0.001)\n",
    "epochs = 1000\n",
    "model.to('cuda')\n",
    "next(model.parameters()).device"
   ],
   "metadata": {
    "collapsed": false,
    "pycharm": {
     "name": "#%%\n"
    }
   }
  },
  {
   "cell_type": "code",
   "execution_count": 184,
   "outputs": [
    {
     "name": "stdout",
     "output_type": "stream",
     "text": [
      "Epoch: 0 | MAE Test: 0.0002011120377574116 | MAE Train: 6.397291872417554e-05\n",
      "Epoch: 10 | MAE Test: 0.0002011120377574116 | MAE Train: 6.397291872417554e-05\n",
      "Epoch: 20 | MAE Test: 0.0002011120377574116 | MAE Train: 6.397291872417554e-05\n",
      "Epoch: 30 | MAE Test: 0.0002011120377574116 | MAE Train: 6.397291872417554e-05\n",
      "Epoch: 40 | MAE Test: 0.0002011120377574116 | MAE Train: 6.397291872417554e-05\n",
      "Epoch: 50 | MAE Test: 0.0002011120377574116 | MAE Train: 6.397291872417554e-05\n",
      "Epoch: 60 | MAE Test: 0.0002011120377574116 | MAE Train: 6.397291872417554e-05\n",
      "Epoch: 70 | MAE Test: 0.0002011120377574116 | MAE Train: 6.397291872417554e-05\n",
      "Epoch: 80 | MAE Test: 0.0002011120377574116 | MAE Train: 6.397291872417554e-05\n",
      "Epoch: 90 | MAE Test: 0.0002011120377574116 | MAE Train: 6.397291872417554e-05\n",
      "Epoch: 100 | MAE Test: 0.0002011120377574116 | MAE Train: 6.397291872417554e-05\n",
      "Epoch: 110 | MAE Test: 0.0002011120377574116 | MAE Train: 6.397291872417554e-05\n",
      "Epoch: 120 | MAE Test: 0.0002011120377574116 | MAE Train: 6.397291872417554e-05\n",
      "Epoch: 130 | MAE Test: 0.0002011120377574116 | MAE Train: 6.397291872417554e-05\n",
      "Epoch: 140 | MAE Test: 0.0002011120377574116 | MAE Train: 6.397291872417554e-05\n",
      "Epoch: 150 | MAE Test: 0.0002011120377574116 | MAE Train: 6.397291872417554e-05\n",
      "Epoch: 160 | MAE Test: 0.0002011120377574116 | MAE Train: 6.397291872417554e-05\n",
      "Epoch: 170 | MAE Test: 0.0002011120377574116 | MAE Train: 6.397291872417554e-05\n",
      "Epoch: 180 | MAE Test: 0.0002011120377574116 | MAE Train: 6.397291872417554e-05\n",
      "Epoch: 190 | MAE Test: 0.0002011120377574116 | MAE Train: 6.397291872417554e-05\n",
      "Epoch: 200 | MAE Test: 0.0002011120377574116 | MAE Train: 6.397291872417554e-05\n",
      "Epoch: 210 | MAE Test: 0.0002011120377574116 | MAE Train: 6.397291872417554e-05\n",
      "Epoch: 220 | MAE Test: 0.0002011120377574116 | MAE Train: 6.397291872417554e-05\n",
      "Epoch: 230 | MAE Test: 0.0002011120377574116 | MAE Train: 6.397291872417554e-05\n",
      "Epoch: 240 | MAE Test: 0.0002011120377574116 | MAE Train: 6.397291872417554e-05\n",
      "Epoch: 250 | MAE Test: 0.0002011120377574116 | MAE Train: 6.397291872417554e-05\n",
      "Epoch: 260 | MAE Test: 0.0002011120377574116 | MAE Train: 6.397291872417554e-05\n",
      "Epoch: 270 | MAE Test: 0.0002011120377574116 | MAE Train: 6.397291872417554e-05\n",
      "Epoch: 280 | MAE Test: 0.0002011120377574116 | MAE Train: 6.397291872417554e-05\n",
      "Epoch: 290 | MAE Test: 0.0002011120377574116 | MAE Train: 6.397291872417554e-05\n",
      "Epoch: 300 | MAE Test: 0.0002011120377574116 | MAE Train: 6.397291872417554e-05\n",
      "Epoch: 310 | MAE Test: 0.0002011120377574116 | MAE Train: 6.397291872417554e-05\n",
      "Epoch: 320 | MAE Test: 0.0002011120377574116 | MAE Train: 6.397291872417554e-05\n",
      "Epoch: 330 | MAE Test: 0.0002011120377574116 | MAE Train: 6.397291872417554e-05\n",
      "Epoch: 340 | MAE Test: 0.0002011120377574116 | MAE Train: 6.397291872417554e-05\n",
      "Epoch: 350 | MAE Test: 0.0002011120377574116 | MAE Train: 6.397291872417554e-05\n",
      "Epoch: 360 | MAE Test: 0.0002011120377574116 | MAE Train: 6.397291872417554e-05\n",
      "Epoch: 370 | MAE Test: 0.0002011120377574116 | MAE Train: 6.397291872417554e-05\n",
      "Epoch: 380 | MAE Test: 0.0002011120377574116 | MAE Train: 6.397291872417554e-05\n",
      "Epoch: 390 | MAE Test: 0.0002011120377574116 | MAE Train: 6.397291872417554e-05\n",
      "Epoch: 400 | MAE Test: 0.0002011120377574116 | MAE Train: 6.397291872417554e-05\n",
      "Epoch: 410 | MAE Test: 0.0002011120377574116 | MAE Train: 6.397291872417554e-05\n",
      "Epoch: 420 | MAE Test: 0.0002011120377574116 | MAE Train: 6.397291872417554e-05\n",
      "Epoch: 430 | MAE Test: 0.0002011120377574116 | MAE Train: 6.397291872417554e-05\n",
      "Epoch: 440 | MAE Test: 0.0002011120377574116 | MAE Train: 6.397291872417554e-05\n",
      "Epoch: 450 | MAE Test: 0.0002011120377574116 | MAE Train: 6.397291872417554e-05\n",
      "Epoch: 460 | MAE Test: 0.0002011120377574116 | MAE Train: 6.397291872417554e-05\n",
      "Epoch: 470 | MAE Test: 0.0002011120377574116 | MAE Train: 6.397291872417554e-05\n",
      "Epoch: 480 | MAE Test: 0.0002011120377574116 | MAE Train: 6.397291872417554e-05\n",
      "Epoch: 490 | MAE Test: 0.0002011120377574116 | MAE Train: 6.397291872417554e-05\n",
      "Epoch: 500 | MAE Test: 0.0002011120377574116 | MAE Train: 6.397291872417554e-05\n",
      "Epoch: 510 | MAE Test: 0.0002011120377574116 | MAE Train: 6.397291872417554e-05\n",
      "Epoch: 520 | MAE Test: 0.0002011120377574116 | MAE Train: 6.397291872417554e-05\n",
      "Epoch: 530 | MAE Test: 0.0002011120377574116 | MAE Train: 6.397291872417554e-05\n",
      "Epoch: 540 | MAE Test: 0.0002011120377574116 | MAE Train: 6.397291872417554e-05\n",
      "Epoch: 550 | MAE Test: 0.0002011120377574116 | MAE Train: 6.397291872417554e-05\n",
      "Epoch: 560 | MAE Test: 0.0002011120377574116 | MAE Train: 6.397291872417554e-05\n",
      "Epoch: 570 | MAE Test: 0.0002011120377574116 | MAE Train: 6.397291872417554e-05\n",
      "Epoch: 580 | MAE Test: 0.0002011120377574116 | MAE Train: 6.397291872417554e-05\n",
      "Epoch: 590 | MAE Test: 0.0002011120377574116 | MAE Train: 6.397291872417554e-05\n",
      "Epoch: 600 | MAE Test: 0.0002011120377574116 | MAE Train: 6.397291872417554e-05\n",
      "Epoch: 610 | MAE Test: 0.0002011120377574116 | MAE Train: 6.397291872417554e-05\n",
      "Epoch: 620 | MAE Test: 0.0002011120377574116 | MAE Train: 6.397291872417554e-05\n",
      "Epoch: 630 | MAE Test: 0.0002011120377574116 | MAE Train: 6.397291872417554e-05\n",
      "Epoch: 640 | MAE Test: 0.0002011120377574116 | MAE Train: 6.397291872417554e-05\n",
      "Epoch: 650 | MAE Test: 0.0002011120377574116 | MAE Train: 6.397291872417554e-05\n",
      "Epoch: 660 | MAE Test: 0.0002011120377574116 | MAE Train: 6.397291872417554e-05\n",
      "Epoch: 670 | MAE Test: 0.0002011120377574116 | MAE Train: 6.397291872417554e-05\n",
      "Epoch: 680 | MAE Test: 0.0002011120377574116 | MAE Train: 6.397291872417554e-05\n",
      "Epoch: 690 | MAE Test: 0.0002011120377574116 | MAE Train: 6.397291872417554e-05\n",
      "Epoch: 700 | MAE Test: 0.0002011120377574116 | MAE Train: 6.397291872417554e-05\n",
      "Epoch: 710 | MAE Test: 0.0002011120377574116 | MAE Train: 6.397291872417554e-05\n",
      "Epoch: 720 | MAE Test: 0.0002011120377574116 | MAE Train: 6.397291872417554e-05\n",
      "Epoch: 730 | MAE Test: 0.0002011120377574116 | MAE Train: 6.397291872417554e-05\n",
      "Epoch: 740 | MAE Test: 0.0002011120377574116 | MAE Train: 6.397291872417554e-05\n",
      "Epoch: 750 | MAE Test: 0.0002011120377574116 | MAE Train: 6.397291872417554e-05\n",
      "Epoch: 760 | MAE Test: 0.0002011120377574116 | MAE Train: 6.397291872417554e-05\n",
      "Epoch: 770 | MAE Test: 0.0002011120377574116 | MAE Train: 6.397291872417554e-05\n",
      "Epoch: 780 | MAE Test: 0.0002011120377574116 | MAE Train: 6.397291872417554e-05\n",
      "Epoch: 790 | MAE Test: 0.0002011120377574116 | MAE Train: 6.397291872417554e-05\n",
      "Epoch: 800 | MAE Test: 0.0002011120377574116 | MAE Train: 6.397291872417554e-05\n",
      "Epoch: 810 | MAE Test: 0.0002011120377574116 | MAE Train: 6.397291872417554e-05\n",
      "Epoch: 820 | MAE Test: 0.0002011120377574116 | MAE Train: 6.397291872417554e-05\n",
      "Epoch: 830 | MAE Test: 0.0002011120377574116 | MAE Train: 6.397291872417554e-05\n",
      "Epoch: 840 | MAE Test: 0.0002011120377574116 | MAE Train: 6.397291872417554e-05\n",
      "Epoch: 850 | MAE Test: 0.0002011120377574116 | MAE Train: 6.397291872417554e-05\n",
      "Epoch: 860 | MAE Test: 0.0002011120377574116 | MAE Train: 6.397291872417554e-05\n",
      "Epoch: 870 | MAE Test: 0.0002011120377574116 | MAE Train: 6.397291872417554e-05\n",
      "Epoch: 880 | MAE Test: 0.0002011120377574116 | MAE Train: 6.397291872417554e-05\n",
      "Epoch: 890 | MAE Test: 0.0002011120377574116 | MAE Train: 6.397291872417554e-05\n",
      "Epoch: 900 | MAE Test: 0.0002011120377574116 | MAE Train: 6.397291872417554e-05\n",
      "Epoch: 910 | MAE Test: 0.0002011120377574116 | MAE Train: 6.397291872417554e-05\n",
      "Epoch: 920 | MAE Test: 0.0002011120377574116 | MAE Train: 6.397291872417554e-05\n",
      "Epoch: 930 | MAE Test: 0.0002011120377574116 | MAE Train: 6.397291872417554e-05\n",
      "Epoch: 940 | MAE Test: 0.0002011120377574116 | MAE Train: 6.397291872417554e-05\n",
      "Epoch: 950 | MAE Test: 0.0002011120377574116 | MAE Train: 6.397291872417554e-05\n",
      "Epoch: 960 | MAE Test: 0.0002011120377574116 | MAE Train: 6.397291872417554e-05\n",
      "Epoch: 970 | MAE Test: 0.0002011120377574116 | MAE Train: 6.397291872417554e-05\n",
      "Epoch: 980 | MAE Test: 0.0002011120377574116 | MAE Train: 6.397291872417554e-05\n",
      "Epoch: 990 | MAE Test: 0.0002011120377574116 | MAE Train: 6.397291872417554e-05\n"
     ]
    }
   ],
   "source": [
    "# Todo junto\n",
    "epoch_count = []\n",
    "train_loss_values = []\n",
    "test_loss_values = []\n",
    "\n",
    "Xtrain = Xtrain.to('cuda')\n",
    "Xtest = Xtest.to('cuda')\n",
    "Ytrain = Ytrain.to('cuda')\n",
    "Ytest = Ytest.to('cuda')\n",
    "for epoch in range(epochs):\n",
    "    model.train()\n",
    "    y_pred = model(Xtrain)\n",
    "    loss = loss_fn(y_pred, Ytrain)\n",
    "    optimizer.zero_grad()\n",
    "    loss.backward()\n",
    "    optimizer.step()\n",
    "\n",
    "    model.eval()\n",
    "    with torch.inference_mode():\n",
    "        test_pred = model(Xtest)\n",
    "\n",
    "        test_loss = loss_fn(test_pred, Ytest.type(torch.float))\n",
    "\n",
    "        if epoch % 10 == 0:\n",
    "            epoch_count.append(epoch)\n",
    "            loss = loss.to('cpu')\n",
    "            train_loss_values.append(loss.detach().numpy())\n",
    "            test_loss = test_loss.to('cpu')\n",
    "            test_loss_values.append(test_loss.detach().numpy())\n",
    "            print(f\"Epoch: {epoch} | MAE Test: {test_loss} | MAE Train: {loss}\")\n"
   ],
   "metadata": {
    "collapsed": false,
    "pycharm": {
     "name": "#%%\n"
    }
   }
  },
  {
   "cell_type": "code",
   "execution_count": 185,
   "outputs": [
    {
     "data": {
      "text/plain": "<Figure size 640x480 with 1 Axes>",
      "image/png": "[encoded data removed]"
     },
     "metadata": {},
     "output_type": "display_data"
    }
   ],
   "source": [
    "plt.plot(epoch_count, train_loss_values, label=\"Train loss\")\n",
    "plt.plot(epoch_count, test_loss_values, label=\"Test loss\")\n",
    "plt.title(\"Training and test loss curves\")\n",
    "plt.ylabel(\"Loss\")\n",
    "plt.xlabel(\"Epochs\")\n",
    "plt.legend();"
   ],
   "metadata": {
    "collapsed": false,
    "pycharm": {
     "name": "#%%\n"
    }
   }
  },
  {
   "cell_type": "code",
   "execution_count": 111,
   "outputs": [
    {
     "data": {
      "text/plain": "tensor([[0.0000],\n        [0.0200],\n        [0.0400],\n        [0.0600],\n        [0.0800],\n        [0.1000],\n        [0.1200],\n        [0.1400],\n        [0.1600],\n        [0.1800],\n        [0.2000],\n        [0.2200],\n        [0.2400],\n        [0.2600],\n        [0.2800],\n        [0.3000],\n        [0.3200],\n        [0.3400],\n        [0.3600],\n        [0.3800],\n        [0.4000],\n        [0.4200],\n        [0.4400],\n        [0.4600],\n        [0.4800],\n        [0.5000],\n        [0.5200],\n        [0.5400],\n        [0.5600],\n        [0.5800],\n        [0.6000],\n        [0.6200],\n        [0.6400],\n        [0.6600],\n        [0.6800],\n        [0.7000],\n        [0.7200],\n        [0.7400],\n        [0.7600],\n        [0.7800],\n        [0.8000],\n        [0.8200],\n        [0.8400],\n        [0.8600],\n        [0.8800],\n        [0.9000],\n        [0.9200],\n        [0.9400],\n        [0.9600],\n        [0.9800]])"
     },
     "execution_count": 111,
     "metadata": {},
     "output_type": "execute_result"
    }
   ],
   "source": [
    "X"
   ],
   "metadata": {
    "collapsed": false,
    "pycharm": {
     "name": "#%%\n"
    }
   }
  },
  {
   "cell_type": "code",
   "execution_count": 112,
   "outputs": [
    {
     "data": {
      "text/plain": "tensor([[0.0000],\n        [0.0200],\n        [0.0400],\n        [0.0600],\n        [0.0800],\n        [0.1000],\n        [0.1200],\n        [0.1400],\n        [0.1600],\n        [0.1800],\n        [0.2000],\n        [0.2200],\n        [0.2400],\n        [0.2600],\n        [0.2800],\n        [0.3000],\n        [0.3200],\n        [0.3400],\n        [0.3600],\n        [0.3800],\n        [0.4000],\n        [0.4200],\n        [0.4400],\n        [0.4600],\n        [0.4800],\n        [0.5000],\n        [0.5200],\n        [0.5400],\n        [0.5600],\n        [0.5800],\n        [0.6000],\n        [0.6200],\n        [0.6400],\n        [0.6600],\n        [0.6800],\n        [0.7000],\n        [0.7200],\n        [0.7400],\n        [0.7600],\n        [0.7800]])"
     },
     "execution_count": 112,
     "metadata": {},
     "output_type": "execute_result"
    }
   ],
   "source": [
    "Xtrain"
   ],
   "metadata": {
    "collapsed": false,
    "pycharm": {
     "name": "#%%\n"
    }
   }
  },
  {
   "cell_type": "code",
   "execution_count": 114,
   "outputs": [
    {
     "data": {
      "text/plain": "tensor([[0.8000],\n        [0.8200],\n        [0.8400],\n        [0.8600],\n        [0.8800],\n        [0.9000],\n        [0.9200],\n        [0.9400],\n        [0.9600],\n        [0.9800]])"
     },
     "execution_count": 114,
     "metadata": {},
     "output_type": "execute_result"
    }
   ],
   "source": [
    "Xtest"
   ],
   "metadata": {
    "collapsed": false,
    "pycharm": {
     "name": "#%%\n"
    }
   }
  },
  {
   "cell_type": "code",
   "execution_count": 116,
   "outputs": [
    {
     "data": {
      "text/plain": "tensor([[0.3000],\n        [0.3140],\n        [0.3280],\n        [0.3420],\n        [0.3560],\n        [0.3700],\n        [0.3840],\n        [0.3980],\n        [0.4120],\n        [0.4260],\n        [0.4400],\n        [0.4540],\n        [0.4680],\n        [0.4820],\n        [0.4960],\n        [0.5100],\n        [0.5240],\n        [0.5380],\n        [0.5520],\n        [0.5660],\n        [0.5800],\n        [0.5940],\n        [0.6080],\n        [0.6220],\n        [0.6360],\n        [0.6500],\n        [0.6640],\n        [0.6780],\n        [0.6920],\n        [0.7060],\n        [0.7200],\n        [0.7340],\n        [0.7480],\n        [0.7620],\n        [0.7760],\n        [0.7900],\n        [0.8040],\n        [0.8180],\n        [0.8320],\n        [0.8460]])"
     },
     "execution_count": 116,
     "metadata": {},
     "output_type": "execute_result"
    }
   ],
   "source": [
    "Ytrain"
   ],
   "metadata": {
    "collapsed": false,
    "pycharm": {
     "name": "#%%\n"
    }
   }
  },
  {
   "cell_type": "code",
   "execution_count": 117,
   "outputs": [
    {
     "data": {
      "text/plain": "tensor([[0.8600],\n        [0.8740],\n        [0.8880],\n        [0.9020],\n        [0.9160],\n        [0.9300],\n        [0.9440],\n        [0.9580],\n        [0.9720],\n        [0.9860]])"
     },
     "execution_count": 117,
     "metadata": {},
     "output_type": "execute_result"
    }
   ],
   "source": [
    "Ytest"
   ],
   "metadata": {
    "collapsed": false,
    "pycharm": {
     "name": "#%%\n"
    }
   }
  },
  {
   "cell_type": "markdown",
   "source": [
    "### Guardar un modelo de PyTorch"
   ],
   "metadata": {
    "collapsed": false,
    "pycharm": {
     "name": "#%% md\n"
    }
   }
  },
  {
   "cell_type": "code",
   "execution_count": 187,
   "outputs": [
    {
     "name": "stdout",
     "output_type": "stream",
     "text": [
      "Saving model to: models\\01_pytorch_workflow_model_0.pth\n"
     ]
    }
   ],
   "source": [
    "from pathlib import Path\n",
    "\n",
    "# 1. Create models directory\n",
    "MODEL_PATH = Path(\"models\")\n",
    "MODEL_PATH.mkdir(parents=True, exist_ok=True)\n",
    "\n",
    "# 2. Create model save path\n",
    "MODEL_NAME = \"01_pytorch_workflow_model_0.pth\"\n",
    "MODEL_SAVE_PATH = MODEL_PATH / MODEL_NAME\n",
    "\n",
    "# 3. Save the model state dict\n",
    "print(f\"Saving model to: {MODEL_SAVE_PATH}\")\n",
    "torch.save(obj=model.state_dict(), # only saving the state_dict() only saves the models learned parameters\n",
    "           f=MODEL_SAVE_PATH)"
   ],
   "metadata": {
    "collapsed": false,
    "pycharm": {
     "name": "#%%\n"
    }
   }
  },
  {
   "cell_type": "markdown",
   "source": [
    "### Cargar un modelo de PyTorch"
   ],
   "metadata": {
    "collapsed": false,
    "pycharm": {
     "name": "#%% md\n"
    }
   }
  },
  {
   "cell_type": "code",
   "execution_count": 188,
   "outputs": [
    {
     "data": {
      "text/plain": "<All keys matched successfully>"
     },
     "execution_count": 188,
     "metadata": {},
     "output_type": "execute_result"
    }
   ],
   "source": [
    "# Instantiate a new instance of our model (this will be instantiated with random weights)\n",
    "loaded_model_0 = Lr()\n",
    "\n",
    "# Load the state_dict of our saved model (this will update the new instance of our model with trained weights)\n",
    "loaded_model_0.load_state_dict(torch.load(f=MODEL_SAVE_PATH))"
   ],
   "metadata": {
    "collapsed": false,
    "pycharm": {
     "name": "#%%\n"
    }
   }
  },
  {
   "cell_type": "code",
   "execution_count": 189,
   "outputs": [
    {
     "data": {
      "text/plain": "tensor([[True],\n        [True],\n        [True],\n        [True],\n        [True],\n        [True],\n        [True],\n        [True],\n        [True],\n        [True]])"
     },
     "execution_count": 189,
     "metadata": {},
     "output_type": "execute_result"
    }
   ],
   "source": [
    "loaded_model_0.eval()\n",
    "Xtest = Xtest.to('cpu')\n",
    "# 2. Use the inference mode context manager to make predictions\n",
    "with torch.inference_mode():\n",
    "    loaded_model_preds = loaded_model_0(Xtest) # perform a forward pass on the test data with the loaded model\n",
    "\n",
    "# Compare previous model predictions with loaded model predictions (these should be the same)\n",
    "y_pred == loaded_model_preds\n",
    "\n"
   ],
   "metadata": {
    "collapsed": false,
    "pycharm": {
     "name": "#%%\n"
    }
   }
  },
  {
   "cell_type": "code",
   "execution_count": null,
   "outputs": [],
   "source": [],
   "metadata": {
    "collapsed": false,
    "pycharm": {
     "name": "#%%\n"
    }
   }
  }
 ],
 "metadata": {
  "kernelspec": {
   "display_name": "Python 3",
   "language": "python",
   "name": "python3"
  },
  "language_info": {
   "codemirror_mode": {
    "name": "ipython",
    "version": 2
   },
   "file_extension": ".py",
   "mimetype": "text/x-python",
   "name": "python",
   "nbconvert_exporter": "python",
   "pygments_lexer": "ipython2",
   "version": "2.7.6"
  }
 },
 "nbformat": 4,
 "nbformat_minor": 0
}